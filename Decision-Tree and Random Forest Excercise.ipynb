{
 "cells": [
  {
   "cell_type": "code",
   "execution_count": 111,
   "metadata": {},
   "outputs": [],
   "source": [
    "#Importing the packages\n",
    "\n",
    "from sklearn.datasets import make_moons\n",
    "from sklearn.tree import DecisionTreeClassifier\n",
    "from sklearn.model_selection import train_test_split,GridSearchCV,cross_val_score\n",
    "import numpy as np\n",
    "from sklearn.preprocessing import StandardScaler\n",
    "from sklearn.metrics import precision_score,recall_score,f1_score,accuracy_score\n",
    "from scipy.stats import mode"
   ]
  },
  {
   "cell_type": "code",
   "execution_count": 3,
   "metadata": {},
   "outputs": [
    {
     "data": {
      "text/plain": [
       "(10000, 1)"
      ]
     },
     "execution_count": 3,
     "metadata": {},
     "output_type": "execute_result"
    }
   ],
   "source": [
    "#Importing the dataset Make_Moons\n",
    "\n",
    "data=make_moons(n_samples=10000,noise=0.4)\n",
    "X=np.array(data[0])\n",
    "y=np.array(data[1])\n",
    "y=y.reshape([10000,1])\n",
    "y.shape"
   ]
  },
  {
   "cell_type": "code",
   "execution_count": 4,
   "metadata": {},
   "outputs": [],
   "source": [
    "#Scalling the Data\n",
    "\n",
    "scaler = StandardScaler()\n",
    "X_scaled = scaler.fit_transform(X.astype(np.float64))\n"
   ]
  },
  {
   "cell_type": "code",
   "execution_count": 5,
   "metadata": {},
   "outputs": [],
   "source": [
    "#Dividing the data into train and test data\n",
    "\n",
    "X_train, X_test, y_train, y_test = train_test_split(X_scaled, y, test_size=0.3, random_state=0)"
   ]
  },
  {
   "cell_type": "code",
   "execution_count": 7,
   "metadata": {},
   "outputs": [],
   "source": [
    "#Defining the random state of the Decision Tree for reproducibilty\n",
    "\n",
    "dec_clf=DecisionTreeClassifier(random_state=100)"
   ]
  },
  {
   "cell_type": "code",
   "execution_count": 30,
   "metadata": {},
   "outputs": [],
   "source": [
    "#Doing a Grid Search for regularising the tree\n",
    "\n",
    "param_grid = { \n",
    "    'min_samples_split': [3,4,5,6,7,8],\n",
    "    'max_depth' : [3,4,5,6,7,8,9,10],\n",
    "    'max_leaf_nodes' : [3,4,5,6,7,8]\n",
    "}\n",
    "CV_dec = GridSearchCV(estimator=dec_clf, param_grid=param_grid, cv= 5)\n",
    "dec_cv_fit=CV_dec.fit(X_train,y_train)"
   ]
  },
  {
   "cell_type": "code",
   "execution_count": 32,
   "metadata": {
    "scrolled": true
   },
   "outputs": [
    {
     "data": {
      "text/plain": [
       "{'max_depth': 3, 'max_leaf_nodes': 4, 'min_samples_split': 3}"
      ]
     },
     "execution_count": 32,
     "metadata": {},
     "output_type": "execute_result"
    }
   ],
   "source": [
    "#Finding the best parameter of the Grid Search\n",
    "\n",
    "dec_cv_fit.best_params_"
   ]
  },
  {
   "cell_type": "code",
   "execution_count": 33,
   "metadata": {},
   "outputs": [
    {
     "data": {
      "text/plain": [
       "DecisionTreeClassifier(class_weight=None, criterion='gini', max_depth=3,\n",
       "                       max_features=None, max_leaf_nodes=4,\n",
       "                       min_impurity_decrease=0.0, min_impurity_split=None,\n",
       "                       min_samples_leaf=1, min_samples_split=3,\n",
       "                       min_weight_fraction_leaf=0.0, presort=False,\n",
       "                       random_state=100, splitter='best')"
      ]
     },
     "execution_count": 33,
     "metadata": {},
     "output_type": "execute_result"
    }
   ],
   "source": [
    "#Training with the best parameters\n",
    "\n",
    "dec_clf=DecisionTreeClassifier(random_state=100,max_depth=3,max_leaf_nodes=4,min_samples_split=3)\n",
    "dec_clf.fit(X_train,y_train)"
   ]
  },
  {
   "cell_type": "code",
   "execution_count": 34,
   "metadata": {},
   "outputs": [],
   "source": [
    "#Predicting the values\n",
    "\n",
    "y_test_fit=dec_clf.predict(X_test)"
   ]
  },
  {
   "cell_type": "code",
   "execution_count": 113,
   "metadata": {},
   "outputs": [
    {
     "name": "stdout",
     "output_type": "stream",
     "text": [
      "Cross-Validated Accuracy on 3 cv sets: [0.84915085 0.826      0.84484484]\n",
      "Precision Score: 0.8404669260700389\n",
      "Recall Score: 0.8577101257445401\n",
      "F1-score: 0.8490009826400261\n"
     ]
    },
    {
     "data": {
      "text/plain": [
       "0.8463333333333334"
      ]
     },
     "execution_count": 113,
     "metadata": {},
     "output_type": "execute_result"
    }
   ],
   "source": [
    "#Finding the values of the different metrics\n",
    "\n",
    "print(\"Cross-Validated Accuracy on 3 cv sets:\",cross_val_score(dec_clf,X_test,y_test,cv=3,scoring=\"accuracy\"))\n",
    "print(\"Precision Score:\",precision_score(y_test,y_test_fit))\n",
    "print(\"Recall Score:\",recall_score(y_test,y_test_fit))\n",
    "print(\"F1-score:\",f1_score(y_test,y_test_fit))\n",
    "accuracy_score(y_test,y_test_fit)"
   ]
  },
  {
   "cell_type": "markdown",
   "metadata": {},
   "source": [
    "Now, creating a Random Forest Classifier"
   ]
  },
  {
   "cell_type": "code",
   "execution_count": 126,
   "metadata": {},
   "outputs": [],
   "source": [
    "#Creating a 1000 samples each having 100 instances\n",
    "\n",
    "dec_predict=[]\n",
    "for i in range(1,1000):\n",
    "    shuffle_index = np.random.permutation(100)\n",
    "    X_train, y_train = X_train[shuffle_index], y_train[shuffle_index]\n",
    "    dec_clf=DecisionTreeClassifier(random_state=100,max_depth=4,max_leaf_nodes=6,min_samples_split=5)\n",
    "    dec_clf.fit(X_train,y_train)\n",
    "    dec_predict.append(dec_clf.predict(X_test))"
   ]
  },
  {
   "cell_type": "code",
   "execution_count": 127,
   "metadata": {},
   "outputs": [],
   "source": [
    "#Calculating the final mode of the 1000 models\n",
    "\n",
    "final=(mode(dec_predict).mode[0])"
   ]
  },
  {
   "cell_type": "code",
   "execution_count": 128,
   "metadata": {},
   "outputs": [
    {
     "data": {
      "text/plain": [
       "0.8363333333333334"
      ]
     },
     "execution_count": 128,
     "metadata": {},
     "output_type": "execute_result"
    }
   ],
   "source": [
    "#Calculating the accuracy\n",
    "\n",
    "accuracy_score(y_test,final)"
   ]
  }
 ],
 "metadata": {
  "kernelspec": {
   "display_name": "Python 3",
   "language": "python",
   "name": "python3"
  },
  "language_info": {
   "codemirror_mode": {
    "name": "ipython",
    "version": 3
   },
   "file_extension": ".py",
   "mimetype": "text/x-python",
   "name": "python",
   "nbconvert_exporter": "python",
   "pygments_lexer": "ipython3",
   "version": "3.6.5"
  }
 },
 "nbformat": 4,
 "nbformat_minor": 2
}
